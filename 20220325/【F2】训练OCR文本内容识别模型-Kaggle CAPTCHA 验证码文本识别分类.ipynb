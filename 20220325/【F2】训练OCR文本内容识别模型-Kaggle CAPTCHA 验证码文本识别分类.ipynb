{
 "cells": [
  {
   "cell_type": "markdown",
   "id": "d57940b0-862f-42b0-b74e-668577c56648",
   "metadata": {},
   "source": [
    "# 训练 OCR 文本内容识别模型：Kaggle CAPTCHA 验证码文本识别分类\n",
    "\n",
    "下载数据科学竞赛网站 Kaggle [CAPTCHA 验证码文本识别分类数据集](https://www.kaggle.com/datasets/fournierp/captcha-version-2-images/)，划分训练集、测试集，整理数据、标签。\n",
    "\n",
    "使用 MMOCR 训练基于 SAR 的文本内容识别模型。\n",
    "\n",
    "并在测试集上评估模型性能。"
   ]
  },
  {
   "cell_type": "markdown",
   "id": "c9eff276",
   "metadata": {},
   "source": [
    "## 切换工作目录到主目录"
   ]
  },
  {
   "cell_type": "code",
   "execution_count": 1,
   "id": "bff9e988",
   "metadata": {},
   "outputs": [
    {
     "data": {
      "text/plain": [
       "['.git',\n",
       " '.circleci',\n",
       " '.codespellrc',\n",
       " '.coveragerc',\n",
       " '.github',\n",
       " '.gitignore',\n",
       " '.owners.yml',\n",
       " '.pre-commit-config.yaml',\n",
       " '.pylintrc',\n",
       " '.readthedocs.yml',\n",
       " 'CITATION.cff',\n",
       " 'LICENSE',\n",
       " 'MANIFEST.in',\n",
       " 'README.md',\n",
       " 'README_zh-CN.md',\n",
       " 'configs',\n",
       " 'demo',\n",
       " 'docker',\n",
       " 'docs',\n",
       " 'mmocr',\n",
       " 'model-index.yml',\n",
       " 'requirements.txt',\n",
       " 'requirements',\n",
       " 'resources',\n",
       " 'setup.cfg',\n",
       " 'setup.py',\n",
       " 'tests',\n",
       " 'tools',\n",
       " 'mmocr.egg-info',\n",
       " 'outputs',\n",
       " 'data',\n",
       " 'font.TTF',\n",
       " 'INFO']"
      ]
     },
     "execution_count": 1,
     "metadata": {},
     "output_type": "execute_result"
    }
   ],
   "source": [
    "import os\n",
    "os.chdir('mmocr')\n",
    "os.listdir()"
   ]
  },
  {
   "cell_type": "markdown",
   "id": "7495577d",
   "metadata": {},
   "source": [
    "## 导入工具包"
   ]
  },
  {
   "cell_type": "code",
   "execution_count": 2,
   "id": "e63f0b4e",
   "metadata": {},
   "outputs": [],
   "source": [
    "# 导入 opencv-python\n",
    "import cv2\n",
    "\n",
    "# 导入可视化工具包 matplotlib，并让绘制的图像嵌入在 notebook 中\n",
    "import matplotlib.pyplot as plt\n",
    "%matplotlib inline\n",
    "\n",
    "# 定义可视化图像函数，输入图像路径，可视化图像\n",
    "def show_img_from_path(img_path):\n",
    "    '''opencv 读入图像，matplotlib 可视化格式为 RGB，因此需将 BGR 转 RGB，最后可视化出来'''\n",
    "    img = cv2.imread(img_path)\n",
    "    img_RGB = cv2.cvtColor(img, cv2.COLOR_BGR2RGB)\n",
    "    plt.imshow(img_RGB)\n",
    "    plt.show()\n",
    "    \n",
    "# 定义可视化图像函数，输入图像 array，可视化图像\n",
    "def show_img_from_array(img):\n",
    "    '''输入 array，matplotlib 可视化格式为 RGB，因此需将 BGR 转 RGB，最后可视化出来'''\n",
    "    img_RGB = cv2.cvtColor(img, cv2.COLOR_BGR2RGB)\n",
    "    plt.imshow(img_RGB)\n",
    "    plt.show()"
   ]
  },
  {
   "cell_type": "markdown",
   "id": "6bef151f",
   "metadata": {},
   "source": [
    "## 验证码数据集"
   ]
  },
  {
   "cell_type": "code",
   "execution_count": 3,
   "id": "e976ef23-db93-46a5-9607-7a9ca3d1d431",
   "metadata": {},
   "outputs": [],
   "source": [
    "# 删除原有的 ocr_toy_dataset 目录\n",
    "!rm -rf tests/data/ocr_toy_dataset\n",
    "\n",
    "# 创建一个新的 ocr_toy_dataset 空文件夹\n",
    "!mkdir tests/data/ocr_toy_dataset\n",
    "!mkdir tests/data/ocr_toy_dataset/imgs"
   ]
  },
  {
   "cell_type": "markdown",
   "id": "14142913-07ec-4757-947e-a0761590d9b5",
   "metadata": {},
   "source": [
    "访问数据集主页\n",
    "\n",
    "https://www.kaggle.com/datasets/fournierp/captcha-version-2-images/\n",
    "\n",
    "将下载得到的 archive.zip 解压，得到samples文件夹，将其中的所有图像文件(1070张 .png 文件) 上传至 tests/data/ocr_toy_dataset/imgs"
   ]
  },
  {
   "cell_type": "markdown",
   "id": "b35b1c93-92ed-4803-bc6b-76426e3dfbec",
   "metadata": {},
   "source": [
    "## 划分训练集和测试集，生成标签文件"
   ]
  },
  {
   "cell_type": "code",
   "execution_count": 4,
   "id": "3a0fe348-e516-458e-8212-b4ab9f7a107e",
   "metadata": {},
   "outputs": [
    {
     "name": "stdout",
     "output_type": "stream",
     "text": [
      "imgs文件夹中的文件总数 1070\n",
      "标签文件生成成功！\n"
     ]
    }
   ],
   "source": [
    "import pandas as pd\n",
    "print('imgs文件夹中的文件总数', len(os.listdir('tests/data/ocr_toy_dataset/imgs')))\n",
    "df = pd.DataFrame()\n",
    "# 获取所有图像的文件名\n",
    "df['file_name'] = os.listdir('tests/data/ocr_toy_dataset/imgs')\n",
    "# 由文件名提取文本内容标签\n",
    "df['label'] = df['file_name'].apply(lambda x:x.split('.')[0])\n",
    "# 随机打乱\n",
    "df = df.sample(frac=1)\n",
    "# 重排索引\n",
    "df.reset_index(drop=True, inplace=True)\n",
    "\n",
    "# 训练集\n",
    "train_df = df.iloc[:800]\n",
    "# 测试集\n",
    "test_df = df.iloc[801:]\n",
    "\n",
    "# 生成训练集标签\n",
    "train_df.to_csv('tests/data/ocr_toy_dataset/train_label.txt', sep=' ', index=False, header=None)\n",
    "# 生成测试集标签\n",
    "test_df.to_csv('tests/data/ocr_toy_dataset/test_label.txt', sep=' ', index=False, header=None)\n",
    "print('标签文件生成成功！')"
   ]
  },
  {
   "cell_type": "markdown",
   "id": "46a5899b-930c-437d-97fe-463d9bd2716d",
   "metadata": {},
   "source": [
    "训练集图像路径和标签：train_label.txt\n",
    "\n",
    "测试集图像路径和标签：test_label.txt"
   ]
  },
  {
   "cell_type": "code",
   "execution_count": null,
   "id": "389a1f29-65d0-414c-af97-ad8ac121873b",
   "metadata": {},
   "outputs": [],
   "source": [
    "'''\n",
    "数据集目录结构\n",
    "\n",
    "\n",
    "└── tests\n",
    "     └── data\n",
    "           └── ocr_toy_dataset\n",
    "                ├── train_label.txt\n",
    "                ├── test_label.txt\n",
    "                └── imgs\n",
    "                      ├── 226md.png\n",
    "                      ├── 22d5n.png\n",
    "                          ......\n",
    "'''"
   ]
  },
  {
   "cell_type": "markdown",
   "id": "633fb7f7-5a16-4748-b6aa-778c745d6788",
   "metadata": {},
   "source": [
    "## 查看数据集中的图像"
   ]
  },
  {
   "cell_type": "code",
   "execution_count": 5,
   "id": "b03b176c",
   "metadata": {
    "tags": []
   },
   "outputs": [
    {
     "data": {
      "image/png": "[encoded data removed]",
      "text/plain": [
       "<Figure size 432x288 with 1 Axes>"
      ]
     },
     "metadata": {
      "needs_background": "light"
     },
     "output_type": "display_data"
    }
   ],
   "source": [
    "show_img_from_path('tests/data/ocr_toy_dataset/imgs/y7d75.png')"
   ]
  },
  {
   "cell_type": "code",
   "execution_count": 6,
   "id": "5fa5cd0d",
   "metadata": {},
   "outputs": [
    {
     "data": {
      "image/png": "[encoded data removed]",
      "text/plain": [
       "<Figure size 432x288 with 1 Axes>"
      ]
     },
     "metadata": {
      "needs_background": "light"
     },
     "output_type": "display_data"
    }
   ],
   "source": [
    "show_img_from_path('tests/data/ocr_toy_dataset/imgs/xp24p.png')"
   ]
  },
  {
   "cell_type": "code",
   "execution_count": 7,
   "id": "dbb5b5be",
   "metadata": {},
   "outputs": [
    {
     "name": "stdout",
     "output_type": "stream",
     "text": [
      "w2yp7.png w2yp7\n",
      "gwnm6.png gwnm6\n",
      "5bb66.png 5bb66\n",
      "5pm6b.png 5pm6b\n",
      "ffd6p.png ffd6p\n",
      "b3xpn.png b3xpn\n",
      "c482b.png c482b\n",
      "mddgb.png mddgb\n",
      "nngxc.png nngxc\n",
      "c3572.png c3572\n"
     ]
    }
   ],
   "source": [
    "# 查看标注文件\n",
    "!cat tests/data/ocr_toy_dataset/train_label.txt | head -n 10"
   ]
  },
  {
   "cell_type": "markdown",
   "id": "2211f527",
   "metadata": {},
   "source": [
    "## 修改训练配置 config 文件"
   ]
  },
  {
   "cell_type": "code",
   "execution_count": 8,
   "id": "470cf34d-f656-4832-8586-4c3ba33da835",
   "metadata": {},
   "outputs": [],
   "source": [
    "# 删除原有的 configs/_base_/recog_datasets/toy_data.py 文件\n",
    "!rm configs/_base_/recog_datasets/toy_data.py"
   ]
  },
  {
   "cell_type": "code",
   "execution_count": 9,
   "id": "c6f44d1d-f972-4fd7-b5a5-dc7456787081",
   "metadata": {},
   "outputs": [
    {
     "name": "stdout",
     "output_type": "stream",
     "text": [
      "--2022-03-25 17:39:01--  https://zihao-openmmlab.obs.cn-east-3.myhuaweicloud.com/20220323-mmocr/toy_data.py\n",
      "Connecting to 172.16.0.13:5848... connected.\n",
      "Proxy request sent, awaiting response... 200 OK\n",
      "Length: 954 [binary/octet-stream]\n",
      "Saving to: ‘configs/_base_/recog_datasets/toy_data.py’\n",
      "\n",
      "configs/_base_/reco 100%[===================>]     954  --.-KB/s    in 0s      \n",
      "\n",
      "2022-03-25 17:39:06 (42.5 MB/s) - ‘configs/_base_/recog_datasets/toy_data.py’ saved [954/954]\n",
      "\n"
     ]
    }
   ],
   "source": [
    "# 下载新的 toy_data.py 文件，覆盖被删除的文件\n",
    "!wget https://zihao-openmmlab.obs.cn-east-3.myhuaweicloud.com/20220323-mmocr/toy_data.py -O configs/_base_/recog_datasets/toy_data.py"
   ]
  },
  {
   "cell_type": "code",
   "execution_count": 10,
   "id": "9988dd97-b9a6-4052-a9fa-69a63f4de3c6",
   "metadata": {},
   "outputs": [
    {
     "name": "stdout",
     "output_type": "stream",
     "text": [
      "dataset_type = 'OCRDataset'\n",
      "\n",
      "root = 'tests/data/ocr_toy_dataset'\n",
      "img_prefix = f'{root}/imgs'\n",
      "train_anno_file1 = f'{root}/train_label.txt'\n",
      "\n",
      "train1 = dict(\n",
      "    type=dataset_type,\n",
      "    img_prefix=img_prefix,\n",
      "    ann_file=train_anno_file1,\n",
      "    loader=dict(\n",
      "        type='HardDiskLoader',\n",
      "        repeat=10, # 与训练轮次相关\n",
      "        parser=dict(\n",
      "            type='LineStrParser',\n",
      "            keys=['filename', 'text'],\n",
      "            keys_idx=[0, 1],\n",
      "            separator=' ')),\n",
      "    pipeline=None,\n",
      "    test_mode=False)\n",
      "\n",
      "test_anno_file1 = f'{root}/test_label.txt'\n",
      "test = dict(\n",
      "    type=dataset_type,\n",
      "    img_prefix=img_prefix,\n",
      "    ann_file=test_anno_file1,\n",
      "    loader=dict(\n",
      "        type='HardDiskLoader',\n",
      "        repeat=1,\n",
      "        parser=dict(\n",
      "            type='LineStrParser',\n",
      "            keys=['filename', 'text'],\n",
      "            keys_idx=[0, 1],\n",
      "            separator=' ')),\n",
      "    pipeline=None,\n",
      "    test_mode=True)\n",
      "\n",
      "train_list = [train1]\n",
      "\n",
      "test_list = [test]"
     ]
    }
   ],
   "source": [
    "!cat configs/_base_/recog_datasets/toy_data.py"
   ]
  },
  {
   "cell_type": "code",
   "execution_count": 11,
   "id": "1db04154",
   "metadata": {},
   "outputs": [],
   "source": [
    "from mmcv import Config\n",
    "cfg = Config.fromfile('./configs/textrecog/sar/sar_r31_parallel_decoder_toy_dataset.py')"
   ]
  },
  {
   "cell_type": "code",
   "execution_count": 12,
   "id": "035b6a2d-63c4-42a3-966d-ba3da3a118a7",
   "metadata": {},
   "outputs": [],
   "source": [
    "from mmdet.apis import set_random_seed\n",
    "\n",
    "# 存放输出结果和日志的目录\n",
    "cfg.work_dir = './demo/tutorial_exps'\n",
    "\n",
    "# 初始学习率 0.001 是针对 8 个 GPU 训练的\n",
    "# 如果只有一个 GPU，则除以8\n",
    "cfg.optimizer.lr = 0.001 / 8\n",
    "cfg.lr_config.warmup = None\n",
    "\n",
    "# 每训练 500 张图像，记录一次日志\n",
    "cfg.log_config.interval = 500\n",
    "\n",
    "# 设置随机数种子\n",
    "cfg.seed = 0\n",
    "set_random_seed(0, deterministic=False)\n",
    "cfg.gpu_ids = range(1)\n",
    "\n",
    "# 总共训练多少个 epoch\n",
    "# cfg.total_epochs = 15\n",
    "# 每训练多少个 epoch 评估一次模型性能\n",
    "# cfg.evaluation.interval = 10\n",
    "# # 每训练多少个 epoch 保存一次模型\n",
    "# cfg.checkpoint_config.interval = 10"
   ]
  },
  {
   "cell_type": "markdown",
   "id": "ea0a48a0-a770-49ce-bfc7-5b34ca0e67ac",
   "metadata": {},
   "source": [
    "查看最终的训练配置 config 文件"
   ]
  },
  {
   "cell_type": "code",
   "execution_count": 13,
   "id": "ce664de9-9f1a-4f23-a972-883e1258195f",
   "metadata": {},
   "outputs": [
    {
     "name": "stdout",
     "output_type": "stream",
     "text": [
      "checkpoint_config = dict(interval=1)\n",
      "log_config = dict(interval=500, hooks=[dict(type='TextLoggerHook')])\n",
      "dist_params = dict(backend='nccl')\n",
      "log_level = 'INFO'\n",
      "load_from = None\n",
      "resume_from = None\n",
      "workflow = [('train', 1)]\n",
      "opencv_num_threads = 0\n",
      "mp_start_method = 'fork'\n",
      "label_convertor = dict(\n",
      "    type='AttnConvertor', dict_type='DICT90', with_unknown=True)\n",
      "model = dict(\n",
      "    type='SARNet',\n",
      "    backbone=dict(type='ResNet31OCR'),\n",
      "    encoder=dict(\n",
      "        type='SAREncoder', enc_bi_rnn=False, enc_do_rnn=0.1, enc_gru=False),\n",
      "    decoder=dict(\n",
      "        type='ParallelSARDecoder',\n",
      "        enc_bi_rnn=False,\n",
      "        dec_bi_rnn=False,\n",
      "        dec_do_rnn=0,\n",
      "        dec_gru=False,\n",
      "        pred_dropout=0.1,\n",
      "        d_k=512,\n",
      "        pred_concat=True),\n",
      "    loss=dict(type='SARLoss'),\n",
      "    label_convertor=dict(\n",
      "        type='AttnConvertor', dict_type='DICT90', with_unknown=True),\n",
      "    max_seq_len=30)\n",
      "optimizer = dict(type='Adam', lr=0.000125)\n",
      "optimizer_config = dict(grad_clip=None)\n",
      "lr_config = dict(policy='step', step=[3, 4], warmup=None)\n",
      "total_epochs = 5\n",
      "img_norm_cfg = dict(mean=[0.5, 0.5, 0.5], std=[0.5, 0.5, 0.5])\n",
      "train_pipeline = [\n",
      "    dict(type='LoadImageFromFile'),\n",
      "    dict(\n",
      "        type='ResizeOCR',\n",
      "        height=48,\n",
      "        min_width=48,\n",
      "        max_width=160,\n",
      "        keep_aspect_ratio=True,\n",
      "        width_downsample_ratio=0.25),\n",
      "    dict(type='ToTensorOCR'),\n",
      "    dict(type='NormalizeOCR', mean=[0.5, 0.5, 0.5], std=[0.5, 0.5, 0.5]),\n",
      "    dict(\n",
      "        type='Collect',\n",
      "        keys=['img'],\n",
      "        meta_keys=[\n",
      "            'filename', 'ori_shape', 'resize_shape', 'text', 'valid_ratio'\n",
      "        ])\n",
      "]\n",
      "test_pipeline = [\n",
      "    dict(type='LoadImageFromFile'),\n",
      "    dict(\n",
      "        type='MultiRotateAugOCR',\n",
      "        rotate_degrees=[0, 90, 270],\n",
      "        transforms=[\n",
      "            dict(\n",
      "                type='ResizeOCR',\n",
      "                height=48,\n",
      "                min_width=48,\n",
      "                max_width=160,\n",
      "                keep_aspect_ratio=True,\n",
      "                width_downsample_ratio=0.25),\n",
      "            dict(type='ToTensorOCR'),\n",
      "            dict(\n",
      "                type='NormalizeOCR', mean=[0.5, 0.5, 0.5], std=[0.5, 0.5,\n",
      "                                                                0.5]),\n",
      "            dict(\n",
      "                type='Collect',\n",
      "                keys=['img'],\n",
      "                meta_keys=[\n",
      "                    'filename', 'ori_shape', 'resize_shape', 'valid_ratio',\n",
      "                    'img_norm_cfg', 'ori_filename', 'img_shape'\n",
      "                ])\n",
      "        ])\n",
      "]\n",
      "dataset_type = 'OCRDataset'\n",
      "root = 'tests/data/ocr_toy_dataset'\n",
      "img_prefix = 'tests/data/ocr_toy_dataset/imgs'\n",
      "train_anno_file1 = 'tests/data/ocr_toy_dataset/train_label.txt'\n",
      "train1 = dict(\n",
      "    type='OCRDataset',\n",
      "    img_prefix='tests/data/ocr_toy_dataset/imgs',\n",
      "    ann_file='tests/data/ocr_toy_dataset/train_label.txt',\n",
      "    loader=dict(\n",
      "        type='HardDiskLoader',\n",
      "        repeat=10,\n",
      "        parser=dict(\n",
      "            type='LineStrParser',\n",
      "            keys=['filename', 'text'],\n",
      "            keys_idx=[0, 1],\n",
      "            separator=' ')),\n",
      "    pipeline=None,\n",
      "    test_mode=False)\n",
      "test_anno_file1 = 'tests/data/ocr_toy_dataset/test_label.txt'\n",
      "test = dict(\n",
      "    type='OCRDataset',\n",
      "    img_prefix='tests/data/ocr_toy_dataset/imgs',\n",
      "    ann_file='tests/data/ocr_toy_dataset/test_label.txt',\n",
      "    loader=dict(\n",
      "        type='HardDiskLoader',\n",
      "        repeat=1,\n",
      "        parser=dict(\n",
      "            type='LineStrParser',\n",
      "            keys=['filename', 'text'],\n",
      "            keys_idx=[0, 1],\n",
      "            separator=' ')),\n",
      "    pipeline=None,\n",
      "    test_mode=True)\n",
      "train_list = [\n",
      "    dict(\n",
      "        type='OCRDataset',\n",
      "        img_prefix='tests/data/ocr_toy_dataset/imgs',\n",
      "        ann_file='tests/data/ocr_toy_dataset/train_label.txt',\n",
      "        loader=dict(\n",
      "            type='HardDiskLoader',\n",
      "            repeat=10,\n",
      "            parser=dict(\n",
      "                type='LineStrParser',\n",
      "                keys=['filename', 'text'],\n",
      "                keys_idx=[0, 1],\n",
      "                separator=' ')),\n",
      "        pipeline=None,\n",
      "        test_mode=False)\n",
      "]\n",
      "test_list = [\n",
      "    dict(\n",
      "        type='OCRDataset',\n",
      "        img_prefix='tests/data/ocr_toy_dataset/imgs',\n",
      "        ann_file='tests/data/ocr_toy_dataset/test_label.txt',\n",
      "        loader=dict(\n",
      "            type='HardDiskLoader',\n",
      "            repeat=1,\n",
      "            parser=dict(\n",
      "                type='LineStrParser',\n",
      "                keys=['filename', 'text'],\n",
      "                keys_idx=[0, 1],\n",
      "                separator=' ')),\n",
      "        pipeline=None,\n",
      "        test_mode=True)\n",
      "]\n",
      "data = dict(\n",
      "    workers_per_gpu=2,\n",
      "    samples_per_gpu=8,\n",
      "    train=dict(\n",
      "        type='UniformConcatDataset',\n",
      "        datasets=[\n",
      "            dict(\n",
      "                type='OCRDataset',\n",
      "                img_prefix='tests/data/ocr_toy_dataset/imgs',\n",
      "                ann_file='tests/data/ocr_toy_dataset/train_label.txt',\n",
      "                loader=dict(\n",
      "                    type='HardDiskLoader',\n",
      "                    repeat=10,\n",
      "                    parser=dict(\n",
      "                        type='LineStrParser',\n",
      "                        keys=['filename', 'text'],\n",
      "                        keys_idx=[0, 1],\n",
      "                        separator=' ')),\n",
      "                pipeline=None,\n",
      "                test_mode=False)\n",
      "        ],\n",
      "        pipeline=[\n",
      "            dict(type='LoadImageFromFile'),\n",
      "            dict(\n",
      "                type='ResizeOCR',\n",
      "                height=48,\n",
      "                min_width=48,\n",
      "                max_width=160,\n",
      "                keep_aspect_ratio=True,\n",
      "                width_downsample_ratio=0.25),\n",
      "            dict(type='ToTensorOCR'),\n",
      "            dict(\n",
      "                type='NormalizeOCR', mean=[0.5, 0.5, 0.5], std=[0.5, 0.5,\n",
      "                                                                0.5]),\n",
      "            dict(\n",
      "                type='Collect',\n",
      "                keys=['img'],\n",
      "                meta_keys=[\n",
      "                    'filename', 'ori_shape', 'resize_shape', 'text',\n",
      "                    'valid_ratio'\n",
      "                ])\n",
      "        ]),\n",
      "    val=dict(\n",
      "        type='UniformConcatDataset',\n",
      "        datasets=[\n",
      "            dict(\n",
      "                type='OCRDataset',\n",
      "                img_prefix='tests/data/ocr_toy_dataset/imgs',\n",
      "                ann_file='tests/data/ocr_toy_dataset/test_label.txt',\n",
      "                loader=dict(\n",
      "                    type='HardDiskLoader',\n",
      "                    repeat=1,\n",
      "                    parser=dict(\n",
      "                        type='LineStrParser',\n",
      "                        keys=['filename', 'text'],\n",
      "                        keys_idx=[0, 1],\n",
      "                        separator=' ')),\n",
      "                pipeline=None,\n",
      "                test_mode=True)\n",
      "        ],\n",
      "        pipeline=[\n",
      "            dict(type='LoadImageFromFile'),\n",
      "            dict(\n",
      "                type='MultiRotateAugOCR',\n",
      "                rotate_degrees=[0, 90, 270],\n",
      "                transforms=[\n",
      "                    dict(\n",
      "                        type='ResizeOCR',\n",
      "                        height=48,\n",
      "                        min_width=48,\n",
      "                        max_width=160,\n",
      "                        keep_aspect_ratio=True,\n",
      "                        width_downsample_ratio=0.25),\n",
      "                    dict(type='ToTensorOCR'),\n",
      "                    dict(\n",
      "                        type='NormalizeOCR',\n",
      "                        mean=[0.5, 0.5, 0.5],\n",
      "                        std=[0.5, 0.5, 0.5]),\n",
      "                    dict(\n",
      "                        type='Collect',\n",
      "                        keys=['img'],\n",
      "                        meta_keys=[\n",
      "                            'filename', 'ori_shape', 'resize_shape',\n",
      "                            'valid_ratio', 'img_norm_cfg', 'ori_filename',\n",
      "                            'img_shape'\n",
      "                        ])\n",
      "                ])\n",
      "        ]),\n",
      "    test=dict(\n",
      "        type='UniformConcatDataset',\n",
      "        datasets=[\n",
      "            dict(\n",
      "                type='OCRDataset',\n",
      "                img_prefix='tests/data/ocr_toy_dataset/imgs',\n",
      "                ann_file='tests/data/ocr_toy_dataset/test_label.txt',\n",
      "                loader=dict(\n",
      "                    type='HardDiskLoader',\n",
      "                    repeat=1,\n",
      "                    parser=dict(\n",
      "                        type='LineStrParser',\n",
      "                        keys=['filename', 'text'],\n",
      "                        keys_idx=[0, 1],\n",
      "                        separator=' ')),\n",
      "                pipeline=None,\n",
      "                test_mode=True)\n",
      "        ],\n",
      "        pipeline=[\n",
      "            dict(type='LoadImageFromFile'),\n",
      "            dict(\n",
      "                type='MultiRotateAugOCR',\n",
      "                rotate_degrees=[0, 90, 270],\n",
      "                transforms=[\n",
      "                    dict(\n",
      "                        type='ResizeOCR',\n",
      "                        height=48,\n",
      "                        min_width=48,\n",
      "                        max_width=160,\n",
      "                        keep_aspect_ratio=True,\n",
      "                        width_downsample_ratio=0.25),\n",
      "                    dict(type='ToTensorOCR'),\n",
      "                    dict(\n",
      "                        type='NormalizeOCR',\n",
      "                        mean=[0.5, 0.5, 0.5],\n",
      "                        std=[0.5, 0.5, 0.5]),\n",
      "                    dict(\n",
      "                        type='Collect',\n",
      "                        keys=['img'],\n",
      "                        meta_keys=[\n",
      "                            'filename', 'ori_shape', 'resize_shape',\n",
      "                            'valid_ratio', 'img_norm_cfg', 'ori_filename',\n",
      "                            'img_shape'\n",
      "                        ])\n",
      "                ])\n",
      "        ]))\n",
      "evaluation = dict(interval=1, metric='acc')\n",
      "work_dir = './demo/tutorial_exps'\n",
      "seed = 0\n",
      "gpu_ids = range(0, 1)\n",
      "\n"
     ]
    }
   ],
   "source": [
    "print(cfg.pretty_text)"
   ]
  },
  {
   "cell_type": "markdown",
   "id": "dc03df0f",
   "metadata": {},
   "source": [
    "## 准备训练"
   ]
  },
  {
   "cell_type": "code",
   "execution_count": 14,
   "id": "458e9a6d-3eee-454b-8692-b8d5a3b65bcb",
   "metadata": {},
   "outputs": [
    {
     "name": "stderr",
     "output_type": "stream",
     "text": [
      "/environment/miniconda3/lib/python3.7/site-packages/mmdet/datasets/pipelines/formating.py:7: UserWarning: DeprecationWarning: mmdet.datasets.pipelines.formating will be deprecated, please replace it with mmdet.datasets.pipelines.formatting.\n",
      "  warnings.warn('DeprecationWarning: mmdet.datasets.pipelines.formating will be '\n"
     ]
    }
   ],
   "source": [
    "import mmcv\n",
    "from mmocr.datasets import build_dataset\n",
    "from mmocr.models import build_detector\n",
    "from mmocr.apis import train_detector\n",
    "import os.path as osp"
   ]
  },
  {
   "cell_type": "code",
   "execution_count": 15,
   "id": "6c52f89c-9a3a-42b6-af81-5f1a508b6d3a",
   "metadata": {},
   "outputs": [
    {
     "name": "stderr",
     "output_type": "stream",
     "text": [
      "/home/featurize/work/MMOCR教程/0325/mmocr/mmocr/datasets/utils/loader.py:86: UserWarning: HardDiskLoader is deprecated, please use AnnFileLoader instead.\n",
      "  'AnnFileLoader instead.', UserWarning)\n"
     ]
    }
   ],
   "source": [
    "# 建立数据集\n",
    "datasets = [build_dataset(cfg.data.train)]"
   ]
  },
  {
   "cell_type": "code",
   "execution_count": 16,
   "id": "e9a6e444",
   "metadata": {},
   "outputs": [],
   "source": [
    "# 建立模型\n",
    "model = build_detector(cfg.model, train_cfg=cfg.get('train_cfg'), test_cfg=cfg.get('test_cfg'))\n",
    "\n",
    "# 创建新目录，保存训练结果\n",
    "mmcv.mkdir_or_exist(osp.abspath(cfg.work_dir))"
   ]
  },
  {
   "cell_type": "markdown",
   "id": "9205abb0-5e74-4f51-8531-aae6215a3035",
   "metadata": {},
   "source": [
    "## 训练模型（大概需要五分钟）\n",
    "\n",
    "如果报错 CUDA out of memory，则说明显存不足，把之前几个 notebook 的kernel关闭，释放显存即可。"
   ]
  },
  {
   "cell_type": "code",
   "execution_count": 17,
   "id": "812d2678-70c3-473f-99f9-6cbe0fd825d6",
   "metadata": {},
   "outputs": [
    {
     "name": "stderr",
     "output_type": "stream",
     "text": [
      "/home/featurize/work/MMOCR教程/0325/mmocr/mmocr/apis/train.py:86: UserWarning: config is now expected to have a `runner` section, please set `runner` in your config.\n",
      "  'please set `runner` in your config.', UserWarning)\n",
      "/home/featurize/work/MMOCR教程/0325/mmocr/mmocr/apis/utils.py:53: UserWarning: Remove \"MultiRotateAugOCR\" to support batch inference since samples_per_gpu > 1.\n",
      "  warnings.warn(warning_msg)\n",
      "/home/featurize/work/MMOCR教程/0325/mmocr/mmocr/datasets/utils/loader.py:86: UserWarning: HardDiskLoader is deprecated, please use AnnFileLoader instead.\n",
      "  'AnnFileLoader instead.', UserWarning)\n",
      "2022-03-25 17:39:58,547 - mmocr - INFO - Start running, host: featurize@featurize, work_dir: /home/featurize/work/MMOCR教程/0325/mmocr/demo/tutorial_exps\n",
      "2022-03-25 17:39:58,548 - mmocr - INFO - Hooks will be executed in the following order:\n",
      "before_run:\n",
      "(VERY_HIGH   ) StepLrUpdaterHook                  \n",
      "(NORMAL      ) CheckpointHook                     \n",
      "(NORMAL      ) EvalHook                           \n",
      "(VERY_LOW    ) TextLoggerHook                     \n",
      " -------------------- \n",
      "before_train_epoch:\n",
      "(VERY_HIGH   ) StepLrUpdaterHook                  \n",
      "(NORMAL      ) EvalHook                           \n",
      "(LOW         ) IterTimerHook                      \n",
      "(VERY_LOW    ) TextLoggerHook                     \n",
      " -------------------- \n",
      "before_train_iter:\n",
      "(VERY_HIGH   ) StepLrUpdaterHook                  \n",
      "(NORMAL      ) EvalHook                           \n",
      "(LOW         ) IterTimerHook                      \n",
      " -------------------- \n",
      "after_train_iter:\n",
      "(ABOVE_NORMAL) OptimizerHook                      \n",
      "(NORMAL      ) CheckpointHook                     \n",
      "(NORMAL      ) EvalHook                           \n",
      "(LOW         ) IterTimerHook                      \n",
      "(VERY_LOW    ) TextLoggerHook                     \n",
      " -------------------- \n",
      "after_train_epoch:\n",
      "(NORMAL      ) CheckpointHook                     \n",
      "(NORMAL      ) EvalHook                           \n",
      "(VERY_LOW    ) TextLoggerHook                     \n",
      " -------------------- \n",
      "before_val_epoch:\n",
      "(LOW         ) IterTimerHook                      \n",
      "(VERY_LOW    ) TextLoggerHook                     \n",
      " -------------------- \n",
      "before_val_iter:\n",
      "(LOW         ) IterTimerHook                      \n",
      " -------------------- \n",
      "after_val_iter:\n",
      "(LOW         ) IterTimerHook                      \n",
      " -------------------- \n",
      "after_val_epoch:\n",
      "(VERY_LOW    ) TextLoggerHook                     \n",
      " -------------------- \n",
      "after_run:\n",
      "(VERY_LOW    ) TextLoggerHook                     \n",
      " -------------------- \n",
      "2022-03-25 17:39:58,550 - mmocr - INFO - workflow: [('train', 1)], max: 5 epochs\n",
      "2022-03-25 17:39:58,551 - mmocr - INFO - Checkpoints will be saved to /home/featurize/work/MMOCR教程/0325/mmocr/demo/tutorial_exps by HardDiskBackend.\n",
      "2022-03-25 17:40:34,492 - mmocr - INFO - Epoch [1][500/1000]\tlr: 1.250e-04, eta: 0:05:23, time: 0.072, data_time: 0.008, memory: 1783, loss_ce: 1.8103, loss: 1.8103\n",
      "2022-03-25 17:41:07,707 - mmocr - INFO - Epoch [1][1000/1000]\tlr: 1.250e-04, eta: 0:04:36, time: 0.066, data_time: 0.003, memory: 1783, loss_ce: 0.2816, loss: 0.2816\n",
      "2022-03-25 17:41:08,002 - mmocr - INFO - Saving checkpoint at 1 epochs\n"
     ]
    },
    {
     "name": "stdout",
     "output_type": "stream",
     "text": [
      "[>>>>>>>>>>>>>>>>>>>>>>>>>>>>>>] 269/269, 63.1 task/s, elapsed: 4s, ETA:     0s"
     ]
    },
    {
     "name": "stderr",
     "output_type": "stream",
     "text": [
      "2022-03-25 17:41:24,482 - mmocr - INFO - \n",
      "Evaluateing tests/data/ocr_toy_dataset/test_label.txt with 269 images now\n",
      "2022-03-25 17:41:24,494 - mmocr - INFO - Epoch(val) [1][34]\t0_word_acc: 0.9926, 0_word_acc_ignore_case: 0.9926, 0_word_acc_ignore_case_symbol: 0.9926, 0_char_recall: 0.9985, 0_char_precision: 0.9985, 0_1-N.E.D: 0.9985\n",
      "2022-03-25 17:42:00,677 - mmocr - INFO - Epoch [2][500/1000]\tlr: 1.250e-04, eta: 0:04:05, time: 0.072, data_time: 0.008, memory: 1783, loss_ce: 0.2609, loss: 0.2609\n",
      "2022-03-25 17:42:34,074 - mmocr - INFO - Epoch [2][1000/1000]\tlr: 1.250e-04, eta: 0:03:27, time: 0.067, data_time: 0.003, memory: 1783, loss_ce: 0.2527, loss: 0.2527\n",
      "2022-03-25 17:42:34,432 - mmocr - INFO - Saving checkpoint at 2 epochs\n"
     ]
    },
    {
     "name": "stdout",
     "output_type": "stream",
     "text": [
      "[>>>>>>>>>>>>>>>>>>>>>>>>>>>>>>] 269/269, 63.7 task/s, elapsed: 4s, ETA:     0s"
     ]
    },
    {
     "name": "stderr",
     "output_type": "stream",
     "text": [
      "2022-03-25 17:42:43,494 - mmocr - INFO - \n",
      "Evaluateing tests/data/ocr_toy_dataset/test_label.txt with 269 images now\n",
      "2022-03-25 17:42:43,505 - mmocr - INFO - Epoch(val) [2][34]\t0_word_acc: 0.9926, 0_word_acc_ignore_case: 0.9926, 0_word_acc_ignore_case_symbol: 0.9926, 0_char_recall: 0.9985, 0_char_precision: 0.9985, 0_1-N.E.D: 0.9985\n",
      "2022-03-25 17:43:18,608 - mmocr - INFO - Epoch [3][500/1000]\tlr: 1.250e-04, eta: 0:02:53, time: 0.070, data_time: 0.006, memory: 1783, loss_ce: 0.2284, loss: 0.2284\n",
      "2022-03-25 17:43:51,675 - mmocr - INFO - Epoch [3][1000/1000]\tlr: 1.250e-04, eta: 0:02:17, time: 0.066, data_time: 0.002, memory: 1783, loss_ce: 0.2266, loss: 0.2266\n",
      "2022-03-25 17:43:52,263 - mmocr - INFO - Saving checkpoint at 3 epochs\n"
     ]
    },
    {
     "name": "stdout",
     "output_type": "stream",
     "text": [
      "[>>>>>>>>>>>>>>>>>>>>>>>>>>>>>>] 269/269, 62.5 task/s, elapsed: 4s, ETA:     0s"
     ]
    },
    {
     "name": "stderr",
     "output_type": "stream",
     "text": [
      "2022-03-25 17:44:03,791 - mmocr - INFO - \n",
      "Evaluateing tests/data/ocr_toy_dataset/test_label.txt with 269 images now\n",
      "2022-03-25 17:44:03,799 - mmocr - INFO - Epoch(val) [3][34]\t0_word_acc: 0.9926, 0_word_acc_ignore_case: 0.9926, 0_word_acc_ignore_case_symbol: 0.9926, 0_char_recall: 0.9985, 0_char_precision: 0.9985, 0_1-N.E.D: 0.9985\n",
      "2022-03-25 17:44:39,379 - mmocr - INFO - Epoch [4][500/1000]\tlr: 1.250e-05, eta: 0:01:43, time: 0.071, data_time: 0.006, memory: 1783, loss_ce: 0.2340, loss: 0.2340\n",
      "2022-03-25 17:45:12,760 - mmocr - INFO - Epoch [4][1000/1000]\tlr: 1.250e-05, eta: 0:01:08, time: 0.067, data_time: 0.002, memory: 1783, loss_ce: 0.2239, loss: 0.2239\n",
      "2022-03-25 17:45:12,842 - mmocr - INFO - Saving checkpoint at 4 epochs\n"
     ]
    },
    {
     "name": "stdout",
     "output_type": "stream",
     "text": [
      "[>>>>>>>>>>>>>>>>>>>>>>>>>>>>>>] 269/269, 62.4 task/s, elapsed: 4s, ETA:     0s"
     ]
    },
    {
     "name": "stderr",
     "output_type": "stream",
     "text": [
      "2022-03-25 17:45:20,824 - mmocr - INFO - \n",
      "Evaluateing tests/data/ocr_toy_dataset/test_label.txt with 269 images now\n",
      "2022-03-25 17:45:20,835 - mmocr - INFO - Epoch(val) [4][34]\t0_word_acc: 0.9926, 0_word_acc_ignore_case: 0.9926, 0_word_acc_ignore_case_symbol: 0.9926, 0_char_recall: 0.9985, 0_char_precision: 0.9985, 0_1-N.E.D: 0.9985\n",
      "2022-03-25 17:45:56,262 - mmocr - INFO - Epoch [5][500/1000]\tlr: 1.250e-06, eta: 0:00:34, time: 0.071, data_time: 0.006, memory: 1783, loss_ce: 0.2285, loss: 0.2285\n",
      "2022-03-25 17:46:29,648 - mmocr - INFO - Epoch [5][1000/1000]\tlr: 1.250e-06, eta: 0:00:00, time: 0.067, data_time: 0.002, memory: 1783, loss_ce: 0.2312, loss: 0.2312\n",
      "2022-03-25 17:46:29,717 - mmocr - INFO - Saving checkpoint at 5 epochs\n"
     ]
    },
    {
     "name": "stdout",
     "output_type": "stream",
     "text": [
      "[>>>>>>>>>>>>>>>>>>>>>>>>>>>>>>] 269/269, 62.3 task/s, elapsed: 4s, ETA:     0s"
     ]
    },
    {
     "name": "stderr",
     "output_type": "stream",
     "text": [
      "2022-03-25 17:46:36,358 - mmocr - INFO - \n",
      "Evaluateing tests/data/ocr_toy_dataset/test_label.txt with 269 images now\n",
      "2022-03-25 17:46:36,365 - mmocr - INFO - Epoch(val) [5][34]\t0_word_acc: 0.9926, 0_word_acc_ignore_case: 0.9926, 0_word_acc_ignore_case_symbol: 0.9926, 0_char_recall: 0.9985, 0_char_precision: 0.9985, 0_1-N.E.D: 0.9985\n"
     ]
    }
   ],
   "source": [
    "train_detector(model, datasets, cfg, distributed=False, validate=True)"
   ]
  },
  {
   "cell_type": "markdown",
   "id": "4b4cc600-ac77-475b-a4c4-dc95baaae114",
   "metadata": {},
   "source": [
    "## OCR 模型性能评估指标\n",
    "\n",
    "详见`mmocr/core/evaluation/ocr_metric.py`"
   ]
  },
  {
   "cell_type": "markdown",
   "id": "a2c0fdf0",
   "metadata": {},
   "source": [
    "## 用刚刚训练得到的模型，在测试图片上预测\n",
    "\n",
    "使用最新的模型 checkpoint，用 hmean-iou 指标，预测结果存储在`./outputs`"
   ]
  },
  {
   "cell_type": "code",
   "execution_count": 18,
   "id": "58a25e76",
   "metadata": {},
   "outputs": [],
   "source": [
    "from mmocr.apis import init_detector, model_inference"
   ]
  },
  {
   "cell_type": "code",
   "execution_count": 19,
   "id": "70d3bb06-5ef7-4480-9fcb-bdcf1a7a2bcc",
   "metadata": {},
   "outputs": [
    {
     "name": "stdout",
     "output_type": "stream",
     "text": [
      "load checkpoint from local path: ./demo/tutorial_exps/epoch_5.pth\n"
     ]
    },
    {
     "name": "stderr",
     "output_type": "stream",
     "text": [
      "/home/featurize/work/MMOCR教程/0325/mmocr/mmocr/apis/inference.py:50: UserWarning: Class names are not saved in the checkpoint's meta data, use COCO classes by default.\n",
      "  warnings.warn('Class names are not saved in the checkpoint\\'s '\n"
     ]
    }
   ],
   "source": [
    "# 指定模型 checkpoint 权重文件\n",
    "checkpoint = \"./demo/tutorial_exps/epoch_5.pth\"\n",
    "\n",
    "model = init_detector(cfg, checkpoint, device=\"cuda:0\")"
   ]
  },
  {
   "cell_type": "code",
   "execution_count": 20,
   "id": "6953bb02-6646-40be-af12-b225f158e1a0",
   "metadata": {},
   "outputs": [
    {
     "name": "stdout",
     "output_type": "stream",
     "text": [
      "ffnxn.png ffnxn\n",
      "g888x.png g888x\n",
      "pyf65.png pyf65\n",
      "7y2x4.png 7y2x4\n",
      "pdyc8.png pdyc8\n",
      "nnn57.png nnn57\n",
      "c86md.png c86md\n",
      "cwmny.png cwmny\n",
      "6n443.png 6n443\n",
      "75pfw.png 75pfw\n"
     ]
    }
   ],
   "source": [
    "# 查看标注文件\n",
    "!cat tests/data/ocr_toy_dataset/test_label.txt | head -n 10"
   ]
  },
  {
   "cell_type": "code",
   "execution_count": 21,
   "id": "14c96ee3-762f-467e-be3a-161101f4ee80",
   "metadata": {},
   "outputs": [],
   "source": [
    "input_path = 'tests/data/ocr_toy_dataset/imgs/658xe.png'"
   ]
  },
  {
   "cell_type": "code",
   "execution_count": 22,
   "id": "4a691e21-350a-4656-bf93-cf2d4e3fbc39",
   "metadata": {},
   "outputs": [],
   "source": [
    "result = model_inference(model, input_path)"
   ]
  },
  {
   "cell_type": "code",
   "execution_count": 23,
   "id": "31d491f5-f6fd-4dda-b227-77d21c6c6f20",
   "metadata": {},
   "outputs": [
    {
     "data": {
      "text/plain": [
       "{'text': '658xe', 'score': 0.9999989986419677}"
      ]
     },
     "execution_count": 23,
     "metadata": {},
     "output_type": "execute_result"
    }
   ],
   "source": [
    "result"
   ]
  },
  {
   "cell_type": "code",
   "execution_count": 24,
   "id": "5a570bba-79df-4c4f-903c-ec3ca119f06c",
   "metadata": {},
   "outputs": [],
   "source": [
    "out_img = model.show_result(input_path, result, out_file='outputs/demo-out.jpg', show=False)"
   ]
  },
  {
   "cell_type": "code",
   "execution_count": 25,
   "id": "98e18dd9-f0d9-4287-95ab-996b1a749b02",
   "metadata": {},
   "outputs": [
    {
     "data": {
      "image/png": "[encoded data removed]",
      "text/plain": [
       "<Figure size 432x288 with 1 Axes>"
      ]
     },
     "metadata": {
      "needs_background": "light"
     },
     "output_type": "display_data"
    }
   ],
   "source": [
    "show_img_from_array(out_img)"
   ]
  }
 ],
 "metadata": {
  "kernelspec": {
   "display_name": "Python 3 (ipykernel)",
   "language": "python",
   "name": "python3"
  },
  "language_info": {
   "codemirror_mode": {
    "name": "ipython",
    "version": 3
   },
   "file_extension": ".py",
   "mimetype": "text/x-python",
   "name": "python",
   "nbconvert_exporter": "python",
   "pygments_lexer": "ipython3",
   "version": "3.7.10"
  }
 },
 "nbformat": 4,
 "nbformat_minor": 5
}
