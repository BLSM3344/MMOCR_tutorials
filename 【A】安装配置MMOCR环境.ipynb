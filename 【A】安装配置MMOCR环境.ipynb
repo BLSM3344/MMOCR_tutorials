{
 "cells": [
  {
   "cell_type": "markdown",
   "id": "75860311-8e12-47c1-82b2-9e5af68da6ce",
   "metadata": {},
   "source": [
    "<img src=\"https://zihao-download.obs.cn-east-3.myhuaweicloud.com/mmocr/mmocr-logo.png\" width ='300' alt=\"MMOCR LOGO\" align='center' />"
   ]
  },
  {
   "cell_type": "markdown",
   "id": "12be19c1-7143-4530-9b69-e810e9920395",
   "metadata": {},
   "source": [
    "# 什么是MMOCR?\n",
    "MMOCR 是基于 PyTorch 和 MMDetection 的开源工具箱，专注于文本检测，文本识别、关键信息提取，以及命名实体识别等下游任务。\n",
    "\n",
    "MMOCR主页：https://github.com/open-mmlab/mmocr\n",
    "\n",
    "OpenMMLab主页：https://openmmlab.com/"
   ]
  },
  {
   "cell_type": "markdown",
   "id": "ba47331d-87d9-4d70-8df5-0f102b667998",
   "metadata": {
    "tags": []
   },
   "source": [
    "# 一键安装配置MMCV和MMOCR环境"
   ]
  },
  {
   "cell_type": "markdown",
   "id": "0fc8ebd8-db6e-4a17-895f-2f87fc98ca79",
   "metadata": {},
   "source": [
    "代码测试[云GPU环境](https://featurize.cn?s=d7ce99f842414bfcaea5662a97581bd1)，在云GPU中直接按顺序逐行运行本notebook的所有代码块即可\n",
    "\n",
    "云GPU环境参数：GPU RTX 3060、CUDA v11.2\n",
    "\n",
    "代码视频讲解：同济子豪兄 https://space.bilibili.com/1900783\n",
    "\n",
    "2022-3-17"
   ]
  },
  {
   "cell_type": "markdown",
   "id": "6fc1c686-1267-4503-b9e4-bcb188a7f974",
   "metadata": {
    "tags": []
   },
   "source": [
    "# 下载安装Pytorch、mmcv -full（大约需要两分钟）"
   ]
  },
  {
   "cell_type": "code",
   "execution_count": null,
   "id": "09ec33c2-5d5e-45b3-95e1-7d87dac29820",
   "metadata": {},
   "outputs": [],
   "source": [
    "# 安装Pytorch\n",
    "!pip3 install install torch==1.10.1+cu113 torchvision==0.11.2+cu113 torchaudio==0.10.1+cu113 -f https://download.pytorch.org/whl/cu113/torch_stable.html"
   ]
  },
  {
   "cell_type": "code",
   "execution_count": 1,
   "id": "2fef57fc-d5f0-4cd0-a134-1f025c15439f",
   "metadata": {},
   "outputs": [
    {
     "name": "stdout",
     "output_type": "stream",
     "text": [
      "Looking in indexes: https://pypi.tuna.tsinghua.edu.cn/simple\n",
      "Looking in links: https://download.pytorch.org/whl/cu113/torch_stable.html\n",
      "Requirement already satisfied: install in /environment/miniconda3/lib/python3.7/site-packages (1.3.5)\n",
      "Requirement already satisfied: torch==1.10.1+cu113 in /environment/miniconda3/lib/python3.7/site-packages (1.10.1+cu113)\n",
      "Requirement already satisfied: torchvision==0.11.2+cu113 in /environment/miniconda3/lib/python3.7/site-packages (0.11.2+cu113)\n",
      "Requirement already satisfied: torchaudio==0.10.1+cu113 in /environment/miniconda3/lib/python3.7/site-packages (0.10.1+cu113)\n",
      "Requirement already satisfied: typing-extensions in /environment/miniconda3/lib/python3.7/site-packages (from torch==1.10.1+cu113) (4.0.1)\n",
      "Requirement already satisfied: numpy in /environment/miniconda3/lib/python3.7/site-packages (from torchvision==0.11.2+cu113) (1.21.4)\n",
      "Requirement already satisfied: pillow!=8.3.0,>=5.3.0 in /environment/miniconda3/lib/python3.7/site-packages (from torchvision==0.11.2+cu113) (8.4.0)\n",
      "Looking in indexes: https://pypi.tuna.tsinghua.edu.cn/simple\n",
      "Looking in links: https://download.openmmlab.com/mmcv/dist/cu113/torch1.10.0/index.html\n",
      "Requirement already satisfied: mmcv-full in /environment/miniconda3/lib/python3.7/site-packages (1.4.6)\n",
      "Requirement already satisfied: packaging in /environment/miniconda3/lib/python3.7/site-packages (from mmcv-full) (21.3)\n",
      "Requirement already satisfied: numpy in /environment/miniconda3/lib/python3.7/site-packages (from mmcv-full) (1.21.4)\n",
      "Requirement already satisfied: opencv-python>=3 in /environment/miniconda3/lib/python3.7/site-packages (from mmcv-full) (4.5.4.60)\n",
      "Requirement already satisfied: yapf in /environment/miniconda3/lib/python3.7/site-packages (from mmcv-full) (0.31.0)\n",
      "Requirement already satisfied: pyyaml in /environment/miniconda3/lib/python3.7/site-packages (from mmcv-full) (6.0)\n",
      "Requirement already satisfied: Pillow in /environment/miniconda3/lib/python3.7/site-packages (from mmcv-full) (8.4.0)\n",
      "Requirement already satisfied: addict in /environment/miniconda3/lib/python3.7/site-packages (from mmcv-full) (2.4.0)\n",
      "Requirement already satisfied: pyparsing!=3.0.5,>=2.0.2 in /environment/miniconda3/lib/python3.7/site-packages (from packaging->mmcv-full) (3.0.6)\n"
     ]
    }
   ],
   "source": [
    "# 安装mmcv -full\n",
    "!pip install mmcv-full -f https://download.openmmlab.com/mmcv/dist/cu113/torch1.10.0/index.html"
   ]
  },
  {
   "cell_type": "markdown",
   "id": "5fc7c751-1d11-4952-be3f-17236a8a58cf",
   "metadata": {},
   "source": [
    "# 安装其它工具包(大约需要一分钟)"
   ]
  },
  {
   "cell_type": "code",
   "execution_count": 2,
   "id": "afbaa63e-e448-4402-8d30-072ada7c0aa2",
   "metadata": {},
   "outputs": [
    {
     "name": "stdout",
     "output_type": "stream",
     "text": [
      "Looking in indexes: https://pypi.tuna.tsinghua.edu.cn/simple\n",
      "Requirement already satisfied: mmdet in /environment/miniconda3/lib/python3.7/site-packages (2.22.0)\n",
      "Requirement already satisfied: six in /environment/miniconda3/lib/python3.7/site-packages (from mmdet) (1.16.0)\n",
      "Requirement already satisfied: pycocotools in /environment/miniconda3/lib/python3.7/site-packages (from mmdet) (2.0.4)\n",
      "Requirement already satisfied: matplotlib in /environment/miniconda3/lib/python3.7/site-packages (from mmdet) (3.5.0)\n",
      "Requirement already satisfied: terminaltables in /environment/miniconda3/lib/python3.7/site-packages (from mmdet) (3.1.10)\n",
      "Requirement already satisfied: numpy in /environment/miniconda3/lib/python3.7/site-packages (from mmdet) (1.21.4)\n",
      "Requirement already satisfied: python-dateutil>=2.7 in /environment/miniconda3/lib/python3.7/site-packages (from matplotlib->mmdet) (2.8.2)\n",
      "Requirement already satisfied: cycler>=0.10 in /environment/miniconda3/lib/python3.7/site-packages (from matplotlib->mmdet) (0.11.0)\n",
      "Requirement already satisfied: pillow>=6.2.0 in /environment/miniconda3/lib/python3.7/site-packages (from matplotlib->mmdet) (8.4.0)\n",
      "Requirement already satisfied: setuptools-scm>=4 in /environment/miniconda3/lib/python3.7/site-packages (from matplotlib->mmdet) (6.3.2)\n",
      "Requirement already satisfied: kiwisolver>=1.0.1 in /environment/miniconda3/lib/python3.7/site-packages (from matplotlib->mmdet) (1.3.2)\n",
      "Requirement already satisfied: packaging>=20.0 in /environment/miniconda3/lib/python3.7/site-packages (from matplotlib->mmdet) (21.3)\n",
      "Requirement already satisfied: pyparsing>=2.2.1 in /environment/miniconda3/lib/python3.7/site-packages (from matplotlib->mmdet) (3.0.6)\n",
      "Requirement already satisfied: fonttools>=4.22.0 in /environment/miniconda3/lib/python3.7/site-packages (from matplotlib->mmdet) (4.28.3)\n",
      "Requirement already satisfied: setuptools in /environment/miniconda3/lib/python3.7/site-packages (from setuptools-scm>=4->matplotlib->mmdet) (52.0.0.post20210125)\n",
      "Requirement already satisfied: tomli>=1.0.0 in /environment/miniconda3/lib/python3.7/site-packages (from setuptools-scm>=4->matplotlib->mmdet) (1.2.2)\n",
      "Looking in indexes: https://pypi.tuna.tsinghua.edu.cn/simple\n",
      "Requirement already satisfied: tqdm in /environment/miniconda3/lib/python3.7/site-packages (4.61.2)\n",
      "Requirement already satisfied: matplotlib in /environment/miniconda3/lib/python3.7/site-packages (3.5.0)\n",
      "Requirement already satisfied: numpy in /environment/miniconda3/lib/python3.7/site-packages (1.21.4)\n",
      "Requirement already satisfied: opencv-python in /environment/miniconda3/lib/python3.7/site-packages (4.5.4.60)\n",
      "Requirement already satisfied: kiwisolver>=1.0.1 in /environment/miniconda3/lib/python3.7/site-packages (from matplotlib) (1.3.2)\n",
      "Requirement already satisfied: cycler>=0.10 in /environment/miniconda3/lib/python3.7/site-packages (from matplotlib) (0.11.0)\n",
      "Requirement already satisfied: fonttools>=4.22.0 in /environment/miniconda3/lib/python3.7/site-packages (from matplotlib) (4.28.3)\n",
      "Requirement already satisfied: python-dateutil>=2.7 in /environment/miniconda3/lib/python3.7/site-packages (from matplotlib) (2.8.2)\n",
      "Requirement already satisfied: pyparsing>=2.2.1 in /environment/miniconda3/lib/python3.7/site-packages (from matplotlib) (3.0.6)\n",
      "Requirement already satisfied: packaging>=20.0 in /environment/miniconda3/lib/python3.7/site-packages (from matplotlib) (21.3)\n",
      "Requirement already satisfied: setuptools-scm>=4 in /environment/miniconda3/lib/python3.7/site-packages (from matplotlib) (6.3.2)\n",
      "Requirement already satisfied: pillow>=6.2.0 in /environment/miniconda3/lib/python3.7/site-packages (from matplotlib) (8.4.0)\n",
      "Requirement already satisfied: six>=1.5 in /environment/miniconda3/lib/python3.7/site-packages (from python-dateutil>=2.7->matplotlib) (1.16.0)\n",
      "Requirement already satisfied: setuptools in /environment/miniconda3/lib/python3.7/site-packages (from setuptools-scm>=4->matplotlib) (52.0.0.post20210125)\n",
      "Requirement already satisfied: tomli>=1.0.0 in /environment/miniconda3/lib/python3.7/site-packages (from setuptools-scm>=4->matplotlib) (1.2.2)\n"
     ]
    }
   ],
   "source": [
    "# 安装mmdet\n",
    "!pip install mmdet \n",
    "\n",
    "# 安装其它工具包\n",
    "!pip install tqdm matplotlib numpy opencv-python"
   ]
  },
  {
   "cell_type": "markdown",
   "id": "81b9def2-c3cf-4669-84a7-5c5f6bf62353",
   "metadata": {},
   "source": [
    "# 下载MMOCR"
   ]
  },
  {
   "cell_type": "code",
   "execution_count": 3,
   "id": "e559186a-9f59-475d-bbdd-c9af279ef665",
   "metadata": {},
   "outputs": [],
   "source": [
    "# 删掉原有的mmocr文件夹（如有）\n",
    "!rm -rf mmocr"
   ]
  },
  {
   "cell_type": "code",
   "execution_count": 4,
   "id": "43b065d8-1e06-4cd0-be9b-8d426b564d93",
   "metadata": {},
   "outputs": [
    {
     "name": "stdout",
     "output_type": "stream",
     "text": [
      "Cloning into 'mmocr'...\n",
      "remote: Enumerating objects: 5670, done.\u001b[K\n",
      "remote: Counting objects: 100% (560/560), done.\u001b[K\n",
      "remote: Compressing objects: 100% (375/375), done.\u001b[K\n",
      "remote: Total 5670 (delta 252), reused 381 (delta 177), pack-reused 5110\u001b[K\n",
      "Receiving objects: 100% (5670/5670), 12.35 MiB | 15.06 MiB/s, done.\n",
      "Resolving deltas: 100% (3360/3360), done.\n"
     ]
    }
   ],
   "source": [
    "# 从github上下载最新的mmocr源代码\n",
    "!git clone https://github.com/open-mmlab/mmocr.git"
   ]
  },
  {
   "cell_type": "markdown",
   "id": "aff3a380-bb29-4254-9729-6eef306205ca",
   "metadata": {},
   "source": [
    "# 安装MMOCR依赖包（大约需要2分钟）"
   ]
  },
  {
   "cell_type": "code",
   "execution_count": 5,
   "id": "26f03427-9f39-489b-942e-a25c4a10e9d9",
   "metadata": {},
   "outputs": [
    {
     "name": "stdout",
     "output_type": "stream",
     "text": [
      "/home/featurize/work/MMOCR教程/mmocr\n",
      "Looking in indexes: https://pypi.tuna.tsinghua.edu.cn/simple\n",
      "Requirement already satisfied: numpy in /environment/miniconda3/lib/python3.7/site-packages (from -r requirements/build.txt (line 2)) (1.21.4)\n",
      "Collecting pyclipper\n",
      "  Downloading https://pypi.tuna.tsinghua.edu.cn/packages/c5/fa/2c294127e4f88967149a68ad5b3e43636e94e3721109572f8f17ab15b772/pyclipper-1.3.0.post2-cp37-cp37m-manylinux_2_5_x86_64.manylinux1_x86_64.whl (603 kB)\n",
      "\u001b[K     |████████████████████████████████| 603 kB 84.2 MB/s eta 0:00:01\n",
      "\u001b[?25hRequirement already satisfied: torch>=1.1 in /environment/miniconda3/lib/python3.7/site-packages (from -r requirements/build.txt (line 4)) (1.10.1+cu113)\n",
      "Requirement already satisfied: albumentations>=1.1.0 in /environment/miniconda3/lib/python3.7/site-packages (from -r requirements/optional.txt (line 1)) (1.1.0)\n",
      "Collecting imgaug\n",
      "  Downloading https://pypi.tuna.tsinghua.edu.cn/packages/66/b1/af3142c4a85cba6da9f4ebb5ff4e21e2616309552caca5e8acefe9840622/imgaug-0.4.0-py2.py3-none-any.whl (948 kB)\n",
      "\u001b[K     |████████████████████████████████| 948 kB 79.0 MB/s eta 0:00:01\n",
      "\u001b[?25hCollecting lanms-neo==1.0.2\n",
      "  Downloading https://pypi.tuna.tsinghua.edu.cn/packages/7b/fe/beff7e7e4455cb9f69c5734897ca8552a57f6423b062ec86b2ebc1d79c0d/lanms_neo-1.0.2.tar.gz (39 kB)\n",
      "  Installing build dependencies ... \u001b[?25ldone\n",
      "\u001b[?25h  Getting requirements to build wheel ... \u001b[?25ldone\n",
      "\u001b[?25h    Preparing wheel metadata ... \u001b[?25ldone\n",
      "\u001b[?25hCollecting lmdb\n",
      "  Downloading https://pypi.tuna.tsinghua.edu.cn/packages/4d/cf/3230b1c9b0bec406abb85a9332ba5805bdd03a1d24025c6bbcfb8ed71539/lmdb-1.3.0-cp37-cp37m-manylinux_2_12_x86_64.manylinux2010_x86_64.whl (298 kB)\n",
      "\u001b[K     |████████████████████████████████| 298 kB 55.0 MB/s eta 0:00:01\n",
      "\u001b[?25hRequirement already satisfied: matplotlib in /environment/miniconda3/lib/python3.7/site-packages (from -r requirements/runtime.txt (line 4)) (3.5.0)\n",
      "Collecting numba>=0.45.1\n",
      "  Downloading https://pypi.tuna.tsinghua.edu.cn/packages/25/f2/11ab5fd8dcb2c81e1a8d8a1209ea85e383ad2f45a9ce7807cc63833f56c0/numba-0.55.1-1-cp37-cp37m-manylinux2014_x86_64.manylinux_2_17_x86_64.whl (3.3 MB)\n",
      "\u001b[K     |████████████████████████████████| 3.3 MB 85.9 MB/s eta 0:00:01\n",
      "\u001b[?25hRequirement already satisfied: opencv-python-headless<=4.5.4.60 in /environment/miniconda3/lib/python3.7/site-packages (from -r requirements/runtime.txt (line 7)) (4.5.4.60)\n",
      "Collecting pycocotools<=2.0.2\n",
      "  Downloading https://pypi.tuna.tsinghua.edu.cn/packages/de/df/056875d697c45182ed6d2ae21f62015896fdb841906fe48e7268e791c467/pycocotools-2.0.2.tar.gz (23 kB)\n",
      "Collecting rapidfuzz\n",
      "  Downloading https://pypi.tuna.tsinghua.edu.cn/packages/89/dc/9f4b2015aab6c8f85b50bd20c357acac792ace6e9439c9f0e90595d25630/rapidfuzz-2.0.7-cp37-cp37m-manylinux_2_17_x86_64.manylinux2014_x86_64.whl (1.6 MB)\n",
      "\u001b[K     |████████████████████████████████| 1.6 MB 69.5 MB/s eta 0:00:01\n",
      "\u001b[?25hRequirement already satisfied: scikit-image in /environment/miniconda3/lib/python3.7/site-packages (from -r requirements/runtime.txt (line 11)) (0.19.0)\n",
      "Requirement already satisfied: six in /environment/miniconda3/lib/python3.7/site-packages (from -r requirements/runtime.txt (line 12)) (1.16.0)\n",
      "Requirement already satisfied: terminaltables in /environment/miniconda3/lib/python3.7/site-packages (from -r requirements/runtime.txt (line 13)) (3.1.10)\n",
      "Collecting asynctest\n",
      "  Downloading https://pypi.tuna.tsinghua.edu.cn/packages/e8/b6/8d17e169d577ca7678b11cd0d3ceebb0a6089a7f4a2de4b945fe4b1c86db/asynctest-0.13.0-py3-none-any.whl (26 kB)\n",
      "Collecting codecov\n",
      "  Downloading https://pypi.tuna.tsinghua.edu.cn/packages/dc/e2/964d0881eff5a67bf5ddaea79a13c7b34a74bc4efe917b368830b475a0b9/codecov-2.1.12-py2.py3-none-any.whl (16 kB)\n",
      "Requirement already satisfied: flake8 in /environment/miniconda3/lib/python3.7/site-packages (from -r requirements/tests.txt (line 3)) (3.8.4)\n",
      "Requirement already satisfied: isort in /environment/miniconda3/lib/python3.7/site-packages (from -r requirements/tests.txt (line 4)) (5.10.1)\n",
      "Collecting kwarray\n",
      "  Downloading https://pypi.tuna.tsinghua.edu.cn/packages/fe/98/c0f7fd592291ffa585ee2eb9d19fbee71fc68505cd3c3fde4ef4355a111f/kwarray-0.6.0-py3-none-any.whl (78 kB)\n",
      "\u001b[K     |████████████████████████████████| 78 kB 27.3 MB/s eta 0:00:01\n",
      "\u001b[?25hCollecting pytest\n",
      "  Downloading https://pypi.tuna.tsinghua.edu.cn/packages/d2/ac/556e4410326ce77eeb1d1ec35a3e3ec847fb3e5cb30673729d2eeeffc970/pytest-7.1.1-py3-none-any.whl (297 kB)\n",
      "\u001b[K     |████████████████████████████████| 297 kB 84.3 MB/s eta 0:00:01\n",
      "\u001b[?25hCollecting pytest-cov\n",
      "  Downloading https://pypi.tuna.tsinghua.edu.cn/packages/20/49/b3e0edec68d81846f519c602ac38af9db86e1e71275528b3e814ae236063/pytest_cov-3.0.0-py3-none-any.whl (20 kB)\n",
      "Collecting pytest-runner\n",
      "  Downloading https://pypi.tuna.tsinghua.edu.cn/packages/42/7b/1cec26caae4bf44bb9911e1119d5d1a35171571e100b728a2ccd8719a3b1/pytest_runner-6.0.0-py3-none-any.whl (7.2 kB)\n",
      "Collecting ubelt\n",
      "  Downloading https://pypi.tuna.tsinghua.edu.cn/packages/d5/64/57f3df6a72d2126e3507c1ae6b705293261335da5ac96c2b8b74f97a9440/ubelt-1.0.1-py3-none-any.whl (151 kB)\n",
      "\u001b[K     |████████████████████████████████| 151 kB 68.8 MB/s eta 0:00:01\n",
      "\u001b[?25hCollecting xdoctest>=0.10.0\n",
      "  Downloading https://pypi.tuna.tsinghua.edu.cn/packages/45/04/308ee791fdc3b33607c11e61a0e288f84b87195ad83522a6b11607bd193d/xdoctest-0.15.10-py3-none-any.whl (116 kB)\n",
      "\u001b[K     |████████████████████████████████| 116 kB 71.2 MB/s eta 0:00:01\n",
      "\u001b[?25hRequirement already satisfied: yapf in /environment/miniconda3/lib/python3.7/site-packages (from -r requirements/tests.txt (line 12)) (0.31.0)\n",
      "Requirement already satisfied: typing-extensions in /environment/miniconda3/lib/python3.7/site-packages (from torch>=1.1->-r requirements/build.txt (line 4)) (4.0.1)\n",
      "Requirement already satisfied: PyYAML in /environment/miniconda3/lib/python3.7/site-packages (from albumentations>=1.1.0->-r requirements/optional.txt (line 1)) (6.0)\n",
      "Requirement already satisfied: qudida>=0.0.4 in /environment/miniconda3/lib/python3.7/site-packages (from albumentations>=1.1.0->-r requirements/optional.txt (line 1)) (0.0.4)\n",
      "Requirement already satisfied: scipy in /environment/miniconda3/lib/python3.7/site-packages (from albumentations>=1.1.0->-r requirements/optional.txt (line 1)) (1.7.3)\n",
      "Collecting llvmlite<0.39,>=0.38.0rc1\n",
      "  Downloading https://pypi.tuna.tsinghua.edu.cn/packages/35/ad/f0e5ea2096befce8213e5bc4cef1bb8e98f83c6b727d6e3de966a9b55da0/llvmlite-0.38.0-cp37-cp37m-manylinux_2_17_x86_64.manylinux2014_x86_64.whl (34.5 MB)\n",
      "\u001b[K     |████████████████████████████████| 34.5 MB 71.5 MB/s eta 0:00:01\n",
      "\u001b[?25hRequirement already satisfied: setuptools in /environment/miniconda3/lib/python3.7/site-packages (from numba>=0.45.1->-r requirements/runtime.txt (line 5)) (52.0.0.post20210125)\n",
      "Collecting cython>=0.27.3\n",
      "  Downloading https://pypi.tuna.tsinghua.edu.cn/packages/47/33/ea11c87c7d53ebf7c091d44d39634abb62c60ba2679d806a0fb6dddd2e27/Cython-0.29.28-cp37-cp37m-manylinux_2_17_x86_64.manylinux2014_x86_64.manylinux_2_24_x86_64.whl (1.9 MB)\n",
      "\u001b[K     |████████████████████████████████| 1.9 MB 79.1 MB/s eta 0:00:01\n",
      "\u001b[?25hRequirement already satisfied: python-dateutil>=2.7 in /environment/miniconda3/lib/python3.7/site-packages (from matplotlib->-r requirements/runtime.txt (line 4)) (2.8.2)\n",
      "Requirement already satisfied: pillow>=6.2.0 in /environment/miniconda3/lib/python3.7/site-packages (from matplotlib->-r requirements/runtime.txt (line 4)) (8.4.0)\n",
      "Requirement already satisfied: pyparsing>=2.2.1 in /environment/miniconda3/lib/python3.7/site-packages (from matplotlib->-r requirements/runtime.txt (line 4)) (3.0.6)\n",
      "Requirement already satisfied: kiwisolver>=1.0.1 in /environment/miniconda3/lib/python3.7/site-packages (from matplotlib->-r requirements/runtime.txt (line 4)) (1.3.2)\n",
      "Requirement already satisfied: cycler>=0.10 in /environment/miniconda3/lib/python3.7/site-packages (from matplotlib->-r requirements/runtime.txt (line 4)) (0.11.0)\n",
      "Requirement already satisfied: fonttools>=4.22.0 in /environment/miniconda3/lib/python3.7/site-packages (from matplotlib->-r requirements/runtime.txt (line 4)) (4.28.3)\n",
      "Requirement already satisfied: setuptools-scm>=4 in /environment/miniconda3/lib/python3.7/site-packages (from matplotlib->-r requirements/runtime.txt (line 4)) (6.3.2)\n",
      "Requirement already satisfied: packaging>=20.0 in /environment/miniconda3/lib/python3.7/site-packages (from matplotlib->-r requirements/runtime.txt (line 4)) (21.3)\n",
      "Requirement already satisfied: PyWavelets>=1.1.1 in /environment/miniconda3/lib/python3.7/site-packages (from scikit-image->-r requirements/runtime.txt (line 11)) (1.2.0)\n",
      "Requirement already satisfied: networkx>=2.2 in /environment/miniconda3/lib/python3.7/site-packages (from scikit-image->-r requirements/runtime.txt (line 11)) (2.6.3)\n",
      "Requirement already satisfied: tifffile>=2019.7.26 in /environment/miniconda3/lib/python3.7/site-packages (from scikit-image->-r requirements/runtime.txt (line 11)) (2021.11.2)\n",
      "Requirement already satisfied: imageio>=2.4.1 in /environment/miniconda3/lib/python3.7/site-packages (from scikit-image->-r requirements/runtime.txt (line 11)) (2.13.3)\n",
      "Requirement already satisfied: scikit-learn>=0.19.1 in /environment/miniconda3/lib/python3.7/site-packages (from qudida>=0.0.4->albumentations>=1.1.0->-r requirements/optional.txt (line 1)) (1.0.1)\n",
      "Requirement already satisfied: joblib>=0.11 in /environment/miniconda3/lib/python3.7/site-packages (from scikit-learn>=0.19.1->qudida>=0.0.4->albumentations>=1.1.0->-r requirements/optional.txt (line 1)) (1.1.0)\n",
      "Requirement already satisfied: threadpoolctl>=2.0.0 in /environment/miniconda3/lib/python3.7/site-packages (from scikit-learn>=0.19.1->qudida>=0.0.4->albumentations>=1.1.0->-r requirements/optional.txt (line 1)) (3.0.0)\n",
      "Requirement already satisfied: tomli>=1.0.0 in /environment/miniconda3/lib/python3.7/site-packages (from setuptools-scm>=4->matplotlib->-r requirements/runtime.txt (line 4)) (1.2.2)\n",
      "Collecting Shapely\n",
      "  Downloading https://pypi.tuna.tsinghua.edu.cn/packages/9d/4d/4b0d86ed737acb29c5e627a91449470a9fb914f32640db3f1cb7ba5bc19e/Shapely-1.8.1.post1-cp37-cp37m-manylinux_2_12_x86_64.manylinux2010_x86_64.whl (2.0 MB)\n",
      "\u001b[K     |████████████████████████████████| 2.0 MB 87.6 MB/s eta 0:00:01\n",
      "\u001b[?25hRequirement already satisfied: opencv-python in /environment/miniconda3/lib/python3.7/site-packages (from imgaug->-r requirements/runtime.txt (line 1)) (4.5.4.60)\n",
      "Collecting jarowinkler<1.1.0,>=1.0.2\n",
      "  Downloading https://pypi.tuna.tsinghua.edu.cn/packages/bb/ff/bf558c169914fe87e0cdb300cba65a01fb1f6a8cb3a84bf86c5d9910341a/jarowinkler-1.0.2-cp37-cp37m-manylinux_2_17_x86_64.manylinux2014_x86_64.whl (103 kB)\n",
      "\u001b[K     |████████████████████████████████| 103 kB 88.2 MB/s eta 0:00:01\n",
      "\u001b[?25hCollecting coverage\n",
      "  Downloading https://pypi.tuna.tsinghua.edu.cn/packages/a6/42/286654245c1770af4c6a9c05a8b5190a4b09235a09837032cb32492e7df6/coverage-6.3.2-cp37-cp37m-manylinux_2_5_x86_64.manylinux1_x86_64.manylinux_2_17_x86_64.manylinux2014_x86_64.whl (207 kB)\n",
      "\u001b[K     |████████████████████████████████| 207 kB 85.4 MB/s eta 0:00:01\n",
      "\u001b[?25hRequirement already satisfied: requests>=2.7.9 in /environment/miniconda3/lib/python3.7/site-packages (from codecov->-r requirements/tests.txt (line 2)) (2.24.0)\n",
      "Requirement already satisfied: idna<3,>=2.5 in /environment/miniconda3/lib/python3.7/site-packages (from requests>=2.7.9->codecov->-r requirements/tests.txt (line 2)) (2.10)\n",
      "Requirement already satisfied: certifi>=2017.4.17 in /environment/miniconda3/lib/python3.7/site-packages (from requests>=2.7.9->codecov->-r requirements/tests.txt (line 2)) (2021.5.30)\n",
      "Requirement already satisfied: chardet<4,>=3.0.2 in /environment/miniconda3/lib/python3.7/site-packages (from requests>=2.7.9->codecov->-r requirements/tests.txt (line 2)) (3.0.4)\n",
      "Requirement already satisfied: urllib3!=1.25.0,!=1.25.1,<1.26,>=1.21.1 in /environment/miniconda3/lib/python3.7/site-packages (from requests>=2.7.9->codecov->-r requirements/tests.txt (line 2)) (1.25.11)\n",
      "Requirement already satisfied: importlib-metadata in /environment/miniconda3/lib/python3.7/site-packages (from flake8->-r requirements/tests.txt (line 3)) (4.8.2)\n",
      "Requirement already satisfied: pyflakes<2.3.0,>=2.2.0 in /environment/miniconda3/lib/python3.7/site-packages (from flake8->-r requirements/tests.txt (line 3)) (2.2.0)\n",
      "Requirement already satisfied: mccabe<0.7.0,>=0.6.0 in /environment/miniconda3/lib/python3.7/site-packages (from flake8->-r requirements/tests.txt (line 3)) (0.6.1)\n",
      "Requirement already satisfied: pycodestyle<2.7.0,>=2.6.0a1 in /environment/miniconda3/lib/python3.7/site-packages (from flake8->-r requirements/tests.txt (line 3)) (2.6.0)\n",
      "Requirement already satisfied: pluggy<2.0,>=0.12 in /environment/miniconda3/lib/python3.7/site-packages (from pytest->-r requirements/tests.txt (line 7)) (1.0.0)\n",
      "Requirement already satisfied: attrs>=19.2.0 in /environment/miniconda3/lib/python3.7/site-packages (from pytest->-r requirements/tests.txt (line 7)) (21.2.0)\n",
      "Collecting iniconfig\n",
      "  Downloading https://pypi.tuna.tsinghua.edu.cn/packages/9b/dd/b3c12c6d707058fa947864b67f0c4e0c39ef8610988d7baea9578f3c48f3/iniconfig-1.1.1-py2.py3-none-any.whl (5.0 kB)\n",
      "Collecting py>=1.8.2\n",
      "  Downloading https://pypi.tuna.tsinghua.edu.cn/packages/f6/f0/10642828a8dfb741e5f3fbaac830550a518a775c7fff6f04a007259b0548/py-1.11.0-py2.py3-none-any.whl (98 kB)\n",
      "\u001b[K     |████████████████████████████████| 98 kB 71.3 MB/s eta 0:00:01\n",
      "\u001b[?25hRequirement already satisfied: zipp>=0.5 in /environment/miniconda3/lib/python3.7/site-packages (from importlib-metadata->flake8->-r requirements/tests.txt (line 3)) (3.6.0)\n",
      "Collecting ordered-set\n",
      "  Downloading https://pypi.tuna.tsinghua.edu.cn/packages/33/55/af02708f230eb77084a299d7b08175cff006dea4f2721074b92cdb0296c0/ordered_set-4.1.0-py3-none-any.whl (7.6 kB)\n",
      "Building wheels for collected packages: lanms-neo, pycocotools\n",
      "  Building wheel for lanms-neo (PEP 517) ... \u001b[?25ldone\n",
      "\u001b[?25h  Created wheel for lanms-neo: filename=lanms_neo-1.0.2-cp37-cp37m-linux_x86_64.whl size=126354 sha256=751809e39795ee0070033a1e9fc03327779e9f006574198a33d2cb08c291631e\n",
      "  Stored in directory: /home/featurize/.cache/pip/wheels/9e/58/fa/15108d5cceb27278960e52dbc526b3625257b0d46f57a37c86\n",
      "  Building wheel for pycocotools (setup.py) ... \u001b[?25ldone\n",
      "\u001b[?25h  Created wheel for pycocotools: filename=pycocotools-2.0.2-cp37-cp37m-linux_x86_64.whl size=369677 sha256=4fdd59622eb8315cab0fae85114a5881c66302e624452b088f569382a640065e\n",
      "  Stored in directory: /home/featurize/.cache/pip/wheels/f0/4e/80/5c67caf3bcf78ccd860093035add754e4d05e2a54b06dd2cb9\n",
      "Successfully built lanms-neo pycocotools\n",
      "Installing collected packages: py, ordered-set, iniconfig, coverage, ubelt, Shapely, pytest, llvmlite, jarowinkler, cython, xdoctest, rapidfuzz, pytest-runner, pytest-cov, pycocotools, pyclipper, numba, lmdb, lanms-neo, kwarray, imgaug, codecov, asynctest\n",
      "  Attempting uninstall: pycocotools\n",
      "    Found existing installation: pycocotools 2.0.4\n",
      "    Uninstalling pycocotools-2.0.4:\n",
      "      Successfully uninstalled pycocotools-2.0.4\n",
      "Successfully installed Shapely-1.8.1.post1 asynctest-0.13.0 codecov-2.1.12 coverage-6.3.2 cython-0.29.28 imgaug-0.4.0 iniconfig-1.1.1 jarowinkler-1.0.2 kwarray-0.6.0 lanms-neo-1.0.2 llvmlite-0.38.0 lmdb-1.3.0 numba-0.55.1 ordered-set-4.1.0 py-1.11.0 pyclipper-1.3.0.post2 pycocotools-2.0.2 pytest-7.1.1 pytest-cov-3.0.0 pytest-runner-6.0.0 rapidfuzz-2.0.7 ubelt-1.0.1 xdoctest-0.15.10\n",
      "Using pip 21.1.3 from /environment/miniconda3/lib/python3.7/site-packages/pip (python 3.7)\n",
      "Non-user install because site-packages writeable\n",
      "Created temporary directory: /tmp/pip-ephem-wheel-cache-9n0pop1j\n",
      "Created temporary directory: /tmp/pip-req-tracker-ir5nt3lo\n",
      "Initialized build tracking at /tmp/pip-req-tracker-ir5nt3lo\n",
      "Created build tracker: /tmp/pip-req-tracker-ir5nt3lo\n",
      "Entered build tracker: /tmp/pip-req-tracker-ir5nt3lo\n",
      "Created temporary directory: /tmp/pip-install-24mnm3cn\n",
      "Looking in indexes: https://pypi.tuna.tsinghua.edu.cn/simple\n",
      "Obtaining file:///home/featurize/work/MMOCR%E6%95%99%E7%A8%8B/mmocr\n",
      "  Added file:///home/featurize/work/MMOCR%E6%95%99%E7%A8%8B/mmocr to build tracker '/tmp/pip-req-tracker-ir5nt3lo'\n",
      "    Running setup.py (path:/home/featurize/work/MMOCR教程/mmocr/setup.py) egg_info for package from file:///home/featurize/work/MMOCR%E6%95%99%E7%A8%8B/mmocr\n",
      "    Created temporary directory: /tmp/pip-pip-egg-info-fuvco4t3\n",
      "    Running command python setup.py egg_info\n",
      "    running egg_info\n",
      "    creating /tmp/pip-pip-egg-info-fuvco4t3/mmocr.egg-info\n",
      "    writing /tmp/pip-pip-egg-info-fuvco4t3/mmocr.egg-info/PKG-INFO\n",
      "    writing dependency_links to /tmp/pip-pip-egg-info-fuvco4t3/mmocr.egg-info/dependency_links.txt\n",
      "    writing requirements to /tmp/pip-pip-egg-info-fuvco4t3/mmocr.egg-info/requires.txt\n",
      "    writing top-level names to /tmp/pip-pip-egg-info-fuvco4t3/mmocr.egg-info/top_level.txt\n",
      "    writing manifest file '/tmp/pip-pip-egg-info-fuvco4t3/mmocr.egg-info/SOURCES.txt'\n",
      "    reading manifest template 'MANIFEST.in'\n",
      "    warning: no files found matching 'mmocr/.mim/model-index.yml'\n",
      "    warning: no files found matching '*.py' under directory 'mmocr/.mim/configs'\n",
      "    warning: no files found matching '*.yml' under directory 'mmocr/.mim/configs'\n",
      "    warning: no files found matching '*.sh' under directory 'mmocr/.mim/tools'\n",
      "    warning: no files found matching '*.py' under directory 'mmocr/.mim/tools'\n",
      "    writing manifest file '/tmp/pip-pip-egg-info-fuvco4t3/mmocr.egg-info/SOURCES.txt'\n",
      "  Source in /home/featurize/work/MMOCR教程/mmocr has version 0.4.1, which satisfies requirement mmocr==0.4.1 from file:///home/featurize/work/MMOCR%E6%95%99%E7%A8%8B/mmocr\n",
      "  Removed mmocr==0.4.1 from file:///home/featurize/work/MMOCR%E6%95%99%E7%A8%8B/mmocr from build tracker '/tmp/pip-req-tracker-ir5nt3lo'\n",
      "Requirement already satisfied: imgaug in /environment/miniconda3/lib/python3.7/site-packages (from mmocr==0.4.1) (0.4.0)\n",
      "Requirement already satisfied: lanms-neo==1.0.2 in /environment/miniconda3/lib/python3.7/site-packages (from mmocr==0.4.1) (1.0.2)\n",
      "Requirement already satisfied: lmdb in /environment/miniconda3/lib/python3.7/site-packages (from mmocr==0.4.1) (1.3.0)\n",
      "Requirement already satisfied: matplotlib in /environment/miniconda3/lib/python3.7/site-packages (from mmocr==0.4.1) (3.5.0)\n",
      "Requirement already satisfied: numba>=0.45.1 in /environment/miniconda3/lib/python3.7/site-packages (from mmocr==0.4.1) (0.55.1)\n",
      "Requirement already satisfied: numpy in /environment/miniconda3/lib/python3.7/site-packages (from mmocr==0.4.1) (1.21.4)\n",
      "Requirement already satisfied: opencv-python-headless<=4.5.4.60 in /environment/miniconda3/lib/python3.7/site-packages (from mmocr==0.4.1) (4.5.4.60)\n",
      "Requirement already satisfied: pyclipper in /environment/miniconda3/lib/python3.7/site-packages (from mmocr==0.4.1) (1.3.0.post2)\n",
      "Requirement already satisfied: pycocotools<=2.0.2 in /environment/miniconda3/lib/python3.7/site-packages (from mmocr==0.4.1) (2.0.2)\n",
      "Requirement already satisfied: rapidfuzz in /environment/miniconda3/lib/python3.7/site-packages (from mmocr==0.4.1) (2.0.7)\n",
      "Requirement already satisfied: scikit-image in /environment/miniconda3/lib/python3.7/site-packages (from mmocr==0.4.1) (0.19.0)\n",
      "Requirement already satisfied: six in /environment/miniconda3/lib/python3.7/site-packages (from mmocr==0.4.1) (1.16.0)\n",
      "Requirement already satisfied: terminaltables in /environment/miniconda3/lib/python3.7/site-packages (from mmocr==0.4.1) (3.1.10)\n",
      "Requirement already satisfied: llvmlite<0.39,>=0.38.0rc1 in /environment/miniconda3/lib/python3.7/site-packages (from numba>=0.45.1->mmocr==0.4.1) (0.38.0)\n",
      "Requirement already satisfied: setuptools in /environment/miniconda3/lib/python3.7/site-packages (from numba>=0.45.1->mmocr==0.4.1) (52.0.0.post20210125)\n",
      "Requirement already satisfied: cython>=0.27.3 in /environment/miniconda3/lib/python3.7/site-packages (from pycocotools<=2.0.2->mmocr==0.4.1) (0.29.28)\n",
      "Requirement already satisfied: packaging>=20.0 in /environment/miniconda3/lib/python3.7/site-packages (from matplotlib->mmocr==0.4.1) (21.3)\n",
      "Requirement already satisfied: setuptools-scm>=4 in /environment/miniconda3/lib/python3.7/site-packages (from matplotlib->mmocr==0.4.1) (6.3.2)\n",
      "Requirement already satisfied: kiwisolver>=1.0.1 in /environment/miniconda3/lib/python3.7/site-packages (from matplotlib->mmocr==0.4.1) (1.3.2)\n",
      "Requirement already satisfied: fonttools>=4.22.0 in /environment/miniconda3/lib/python3.7/site-packages (from matplotlib->mmocr==0.4.1) (4.28.3)\n",
      "Requirement already satisfied: pyparsing>=2.2.1 in /environment/miniconda3/lib/python3.7/site-packages (from matplotlib->mmocr==0.4.1) (3.0.6)\n",
      "Requirement already satisfied: pillow>=6.2.0 in /environment/miniconda3/lib/python3.7/site-packages (from matplotlib->mmocr==0.4.1) (8.4.0)\n",
      "Requirement already satisfied: cycler>=0.10 in /environment/miniconda3/lib/python3.7/site-packages (from matplotlib->mmocr==0.4.1) (0.11.0)\n",
      "Requirement already satisfied: python-dateutil>=2.7 in /environment/miniconda3/lib/python3.7/site-packages (from matplotlib->mmocr==0.4.1) (2.8.2)\n",
      "Requirement already satisfied: tomli>=1.0.0 in /environment/miniconda3/lib/python3.7/site-packages (from setuptools-scm>=4->matplotlib->mmocr==0.4.1) (1.2.2)\n",
      "Requirement already satisfied: opencv-python in /environment/miniconda3/lib/python3.7/site-packages (from imgaug->mmocr==0.4.1) (4.5.4.60)\n",
      "Requirement already satisfied: scipy in /environment/miniconda3/lib/python3.7/site-packages (from imgaug->mmocr==0.4.1) (1.7.3)\n",
      "Requirement already satisfied: Shapely in /environment/miniconda3/lib/python3.7/site-packages (from imgaug->mmocr==0.4.1) (1.8.1.post1)\n",
      "Requirement already satisfied: imageio in /environment/miniconda3/lib/python3.7/site-packages (from imgaug->mmocr==0.4.1) (2.13.3)\n",
      "Requirement already satisfied: tifffile>=2019.7.26 in /environment/miniconda3/lib/python3.7/site-packages (from scikit-image->mmocr==0.4.1) (2021.11.2)\n",
      "Requirement already satisfied: PyWavelets>=1.1.1 in /environment/miniconda3/lib/python3.7/site-packages (from scikit-image->mmocr==0.4.1) (1.2.0)\n",
      "Requirement already satisfied: networkx>=2.2 in /environment/miniconda3/lib/python3.7/site-packages (from scikit-image->mmocr==0.4.1) (2.6.3)\n",
      "Requirement already satisfied: jarowinkler<1.1.0,>=1.0.2 in /environment/miniconda3/lib/python3.7/site-packages (from rapidfuzz->mmocr==0.4.1) (1.0.2)\n",
      "Created temporary directory: /tmp/pip-unpack-6_82861r\n",
      "Installing collected packages: mmocr\n",
      "  Running setup.py develop for mmocr\n",
      "    Running command /environment/miniconda3/bin/python -c 'import io, os, sys, setuptools, tokenize; sys.argv[0] = '\"'\"'/home/featurize/work/MMOCR教程/mmocr/setup.py'\"'\"'; __file__='\"'\"'/home/featurize/work/MMOCR教程/mmocr/setup.py'\"'\"';f = getattr(tokenize, '\"'\"'open'\"'\"', open)(__file__) if os.path.exists(__file__) else io.StringIO('\"'\"'from setuptools import setup; setup()'\"'\"');code = f.read().replace('\"'\"'\\r\\n'\"'\"', '\"'\"'\\n'\"'\"');f.close();exec(compile(code, __file__, '\"'\"'exec'\"'\"'))' develop --no-deps\n",
      "    running develop\n",
      "    running egg_info\n",
      "    creating mmocr.egg-info\n",
      "    writing mmocr.egg-info/PKG-INFO\n",
      "    writing dependency_links to mmocr.egg-info/dependency_links.txt\n",
      "    writing requirements to mmocr.egg-info/requires.txt\n",
      "    writing top-level names to mmocr.egg-info/top_level.txt\n",
      "    writing manifest file 'mmocr.egg-info/SOURCES.txt'\n",
      "    reading manifest template 'MANIFEST.in'\n",
      "    writing manifest file 'mmocr.egg-info/SOURCES.txt'\n",
      "    running build_ext\n",
      "    Creating /environment/miniconda3/lib/python3.7/site-packages/mmocr.egg-link (link to .)\n",
      "    Adding mmocr 0.4.1 to easy-install.pth file\n",
      "\n",
      "    Installed /home/featurize/work/MMOCR教程/mmocr\n",
      "Successfully installed mmocr-0.4.1\n",
      "Removed build tracker: '/tmp/pip-req-tracker-ir5nt3lo'\n"
     ]
    }
   ],
   "source": [
    "import os\n",
    "os.chdir('mmocr')\n",
    "\n",
    "!pip install -r requirements.txt\n",
    "!pip install -v -e ."
   ]
  },
  {
   "cell_type": "markdown",
   "id": "d83f225e-512f-4afc-9b53-f65a7d50d072",
   "metadata": {},
   "source": [
    "# 下载测试图像素材"
   ]
  },
  {
   "cell_type": "code",
   "execution_count": 6,
   "id": "18c21327-9be2-4762-a947-587a5793c0ed",
   "metadata": {},
   "outputs": [
    {
     "name": "stdout",
     "output_type": "stream",
     "text": [
      "--2022-03-18 13:58:10--  https://zihao-download.obs.cn-east-3.myhuaweicloud.com/mmocr/beautify.jpg\n",
      "Connecting to 172.16.0.13:5848... connected.\n",
      "Proxy request sent, awaiting response... 200 OK\n",
      "Length: 1830859 (1.7M) [image/jpeg]\n",
      "Saving to: ‘demo/beautify.jpg’\n",
      "\n",
      "demo/beautify.jpg   100%[===================>]   1.75M  6.02MB/s    in 0.3s    \n",
      "\n",
      "2022-03-18 13:58:10 (6.02 MB/s) - ‘demo/beautify.jpg’ saved [1830859/1830859]\n",
      "\n",
      "--2022-03-18 13:58:10--  https://zihao-download.obs.cn-east-3.myhuaweicloud.com/mmocr/python-logo.png\n",
      "Connecting to 172.16.0.13:5848... connected.\n",
      "Proxy request sent, awaiting response... 200 OK\n",
      "Length: 83564 (82K) [image/png]\n",
      "Saving to: ‘demo/python-logo.png’\n",
      "\n",
      "demo/python-logo.pn 100%[===================>]  81.61K  --.-KB/s    in 0.1s    \n",
      "\n",
      "2022-03-18 13:58:11 (823 KB/s) - ‘demo/python-logo.png’ saved [83564/83564]\n",
      "\n"
     ]
    }
   ],
   "source": [
    "!wget https://zihao-download.obs.cn-east-3.myhuaweicloud.com/mmocr/beautify.jpg -O demo/beautify.jpg\n",
    "\n",
    "!wget https://zihao-download.obs.cn-east-3.myhuaweicloud.com/mmocr/python-logo.png -O demo/python-logo.png"
   ]
  },
  {
   "cell_type": "markdown",
   "id": "92bd845d-d076-403e-8241-6faa44565fbb",
   "metadata": {},
   "source": [
    "# 检查是否安装成功"
   ]
  },
  {
   "cell_type": "code",
   "execution_count": 7,
   "id": "13566bbd-027d-47f3-8752-4c8aa12c0a70",
   "metadata": {},
   "outputs": [],
   "source": [
    "# 导入工具包\n",
    "import torch, torchvision\n",
    "\n",
    "import mmcv\n",
    "from mmcv.ops import get_compiling_cuda_version, get_compiler_version\n",
    "\n",
    "import mmdet\n",
    "\n",
    "import mmocr"
   ]
  },
  {
   "cell_type": "code",
   "execution_count": 8,
   "id": "644acda2-876d-4b8a-ad24-418257aca51a",
   "metadata": {},
   "outputs": [
    {
     "name": "stderr",
     "output_type": "stream",
     "text": [
      "/environment/miniconda3/lib/python3.7/site-packages/mmdet/datasets/pipelines/formating.py:7: UserWarning: DeprecationWarning: mmdet.datasets.pipelines.formating will be deprecated, please replace it with mmdet.datasets.pipelines.formatting.\n",
      "  warnings.warn('DeprecationWarning: mmdet.datasets.pipelines.formating will be '\n"
     ]
    },
    {
     "name": "stdout",
     "output_type": "stream",
     "text": [
      "load checkpoint from http path: https://download.openmmlab.com/mmocr/textrecog/sar/sar_r31_parallel_decoder_academic-dba3a4a3.pth\n"
     ]
    },
    {
     "name": "stderr",
     "output_type": "stream",
     "text": [
      "Downloading: \"https://download.openmmlab.com/mmocr/textrecog/sar/sar_r31_parallel_decoder_academic-dba3a4a3.pth\" to /home/featurize/.cache/torch/hub/checkpoints/sar_r31_parallel_decoder_academic-dba3a4a3.pth\n"
     ]
    },
    {
     "data": {
      "application/vnd.jupyter.widget-view+json": {
       "model_id": "3e6d836a15cf4460be87d2d67e6eddff",
       "version_major": 2,
       "version_minor": 0
      },
      "text/plain": [
       "  0%|          | 0.00/219M [00:00<?, ?B/s]"
      ]
     },
     "metadata": {},
     "output_type": "display_data"
    },
    {
     "name": "stdout",
     "output_type": "stream",
     "text": [
      "mmocr载入成功！\n"
     ]
    },
    {
     "name": "stderr",
     "output_type": "stream",
     "text": [
      "/home/featurize/work/MMOCR教程/mmocr/mmocr/apis/inference.py:50: UserWarning: Class names are not saved in the checkpoint's meta data, use COCO classes by default.\n",
      "  warnings.warn('Class names are not saved in the checkpoint\\'s '\n"
     ]
    }
   ],
   "source": [
    "from mmocr.utils.ocr import MMOCR\n",
    "mmocr = MMOCR(det=None, recog='SAR', device='cpu')\n",
    "print('mmocr载入成功！')"
   ]
  },
  {
   "cell_type": "markdown",
   "id": "34254935-5d77-4129-8df2-cd652999e8f0",
   "metadata": {},
   "source": [
    "如果代码没有中断报错，且最后输出“mmocr载入成功！”\n",
    "\n",
    "则说明mmocr安装成功，可以开始后续的代码实战了！"
   ]
  },
  {
   "cell_type": "code",
   "execution_count": null,
   "id": "1494d748-0376-4c1b-9783-ed0d4a885104",
   "metadata": {},
   "outputs": [],
   "source": []
  }
 ],
 "metadata": {
  "kernelspec": {
   "display_name": "Python 3 (ipykernel)",
   "language": "python",
   "name": "python3"
  },
  "language_info": {
   "codemirror_mode": {
    "name": "ipython",
    "version": 3
   },
   "file_extension": ".py",
   "mimetype": "text/x-python",
   "name": "python",
   "nbconvert_exporter": "python",
   "pygments_lexer": "ipython3",
   "version": "3.7.10"
  }
 },
 "nbformat": 4,
 "nbformat_minor": 5
}
